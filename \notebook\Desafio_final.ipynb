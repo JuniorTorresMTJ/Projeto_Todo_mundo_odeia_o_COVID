{
  "nbformat": 4,
  "nbformat_minor": 0,
  "metadata": {
    "colab": {
      "name": "Desafio_final.ipynb",
      "provenance": [],
      "authorship_tag": "ABX9TyP8FerBXtTP0wn0D10noFXL",
      "include_colab_link": true
    },
    "kernelspec": {
      "name": "python3",
      "display_name": "Python 3"
    },
    "language_info": {
      "name": "python"
    }
  },
  "cells": [
    {
      "cell_type": "markdown",
      "metadata": {
        "id": "view-in-github",
        "colab_type": "text"
      },
      "source": [
        "<a href=\"https://colab.research.google.com/github/JuniorTorresMTJ/Projeto_Todo_mundo_odeia_o_COVID/blob/main/%5Cnotebook%5CDesafio_final.ipynb\" target=\"_parent\"><img src=\"https://colab.research.google.com/assets/colab-badge.svg\" alt=\"Open In Colab\"/></a>"
      ]
    },
    {
      "cell_type": "markdown",
      "metadata": {
        "id": "JTiTJPQuoW-m"
      },
      "source": [
        "***\n",
        "***\n",
        "#PROJETO FINAL\n",
        "***\n",
        "***"
      ]
    },
    {
      "cell_type": "markdown",
      "metadata": {
        "id": "5uFHN57Fpsou"
      },
      "source": [
        "A pandemia de COVID-19 atingiu o mundo inteiro, sobrecarregando os sistemas de saúde - despreparados para uma solicitação tão intensa e demorada de leitos de UTI, profissionais, equipamentos de proteção individual e recursos de saúde."
      ]
    },
    {
      "cell_type": "markdown",
      "metadata": {
        "id": "Bu2MV4Qj4auD"
      },
      "source": [
        "Há urgência na obtenção de dados precisos para melhor prever e preparar os sistemas de saúde e evitar colapsos, definido pela necessidade de leitos de UTI acima da capacidade (assumindo que recursos humanos, EPIs e profissionais estejam disponíveis), usando dados clínicos individuais - em vez de dados epidemiológicos e populacionais ."
      ]
    },
    {
      "cell_type": "markdown",
      "metadata": {
        "id": "DAi-i-h8oc5M"
      },
      "source": [
        "***\n",
        "#OBJETIVO\n",
        "***\n"
      ]
    },
    {
      "cell_type": "markdown",
      "metadata": {
        "id": "SiKGOOFBrKv1"
      },
      "source": [
        "Prever quais pacientes precisarão ser admitidos na unidade de terapia intensiva e assim, definir qual a necessidade de leitos de UTI do hospital, a partir dos dados clínicos individuais disponíveis."
      ]
    },
    {
      "cell_type": "markdown",
      "metadata": {
        "id": "BPExYEz4ojz6"
      },
      "source": [
        "***\n",
        "#INTRODUÇÃO\n",
        "***"
      ]
    },
    {
      "cell_type": "markdown",
      "metadata": {
        "id": "yPJxEeTAOMDU"
      },
      "source": [
        "Em 31 de dezembro de 2019, a Organização Mundial da Saúde (OMS) foi alertada sobre vários casos de pneumonia na cidade de Wuhan, província de Hubei, na República Popular da China. Tratava-se de uma nova cepa (tipo) de coronavírus que não havia sido identificada antes em seres humanos.\n",
        "\n",
        "Uma semana depois, em 7 de janeiro de 2020, as autoridades chinesas confirmaram que haviam identificado um novo tipo de coronavírus. Os coronavírus estão por toda parte. Eles são a segunda principal causa de resfriado comum (após rinovírus) e, até as últimas décadas, raramente causavam doenças mais graves em humanos do que o resfriado comum."
      ]
    },
    {
      "cell_type": "markdown",
      "metadata": {
        "id": "Ok2V0RjROTZL"
      },
      "source": [
        "Em 11 de março de 2020, a COVID-19 foi caracterizada pela OMS como uma pandemia. O termo “pandemia” se refere à distribuição geográfica de uma doença e não à sua gravidade. A designação reconhece que, no momento, existem surtos de COVID-19 em vários países e regiões do mundo.\n"
      ]
    },
    {
      "cell_type": "markdown",
      "metadata": {
        "id": "P0LDlaiRQ0Pc"
      },
      "source": [
        "Na primeira semana de fevereiro de 2020, o número de mortes pelo novo coronavírus ultrapassou 800 pessoas, e superou a Sars, doença causada pelo Sars-CoV-1 e que matou 774 pessoas em todo o mundo entre 2002 e 2003. Em 13 de fevereiro, o Centro de Controle e Prevenção de Doenças (CDC) dos EUA anunciou a transmissão assintomática do novo coronavírus. Em 14 de fevereiro, era confirmado o primeiro caso da África, no Egito. Em 15 de fevereiro, o diretor-geral da OMS, Tedros Adhanom, pediu aos governos dos estados nacionais que organizassem seus sistemas de saúde, pois era impossível prever a direção que a epidemia tomaria. No dia 24 de fevereiro, Adhanom pediu ao mundo que se preparasse para uma pandemia."
      ]
    },
    {
      "cell_type": "markdown",
      "metadata": {
        "id": "eoI2a6MHPGMU"
      },
      "source": [
        "<img src=\"https://media2.giphy.com/media/QVVDl1EJHkMD6QmSUZ/giphy.gif?cid=ecf05e47et1k0l65e69ley4e7nbd81y7s6vujv0l7ihg4rbf\" alt=\"imersão Dados\" style=\"width: 300px;\"/>\n"
      ]
    },
    {
      "cell_type": "markdown",
      "metadata": {
        "id": "5y2p3tHBp-ym"
      },
      "source": [
        "***\n",
        "#DADOS\n",
        "***"
      ]
    },
    {
      "cell_type": "markdown",
      "metadata": {
        "id": "edCwCuse3sA0"
      },
      "source": [
        "FONTE: https://www.kaggle.com/S%C3%ADrio-Libanes/covid19"
      ]
    },
    {
      "cell_type": "markdown",
      "metadata": {
        "id": "PvBPdIpBop1k"
      },
      "source": [
        "***\n",
        "#IMPORTAÇÃO DAS BIBLIOTECAS\n",
        "***"
      ]
    },
    {
      "cell_type": "code",
      "metadata": {
        "id": "lcILbz3JnnBf"
      },
      "source": [
        "import pandas            as pd\n",
        "import numpy             as np\n",
        "\n",
        "\n",
        "#bibliotecas de visualização\n",
        "\n",
        "import matplotlib.pyplot as plt\n",
        "import matplotlib.ticker as ticker\n",
        "import seaborn           as sns\n",
        "\n",
        "#Bibliotecas de Pré-processamento\n",
        "\n",
        "from sklearn.preprocessing import LabelEncoder\n",
        "from sklearn.model_selection import train_test_split\n",
        "from sklearn.ensemble import ExtraTreesClassifier\n",
        "from sklearn.utils import resample\n",
        "from sklearn.feature_selection import SelectFromModel\n",
        "\n",
        "#Bibliotecas de Modelo de Machine Learning\n",
        "from sklearn.linear_model import LogisticRegression\n",
        "from sklearn.tree import DecisionTreeClassifier\n",
        "from sklearn.ensemble import RandomForestClassifier\n",
        "from sklearn.dummy import DummyClassifier\n",
        "from xgboost import XGBClassifier\n",
        "\n",
        "import warnings\n",
        "warnings.filterwarnings('ignore')"
      ],
      "execution_count": null,
      "outputs": []
    },
    {
      "cell_type": "markdown",
      "metadata": {
        "id": "F4KgqJ4Qotrh"
      },
      "source": [
        "***\n",
        "#CARREGAMENTO DAS BASES\n",
        "***"
      ]
    },
    {
      "cell_type": "code",
      "metadata": {
        "id": "CIYf1ZwH469U",
        "colab": {
          "base_uri": "https://localhost:8080/",
          "height": 180
        },
        "outputId": "7b92faa5-81ff-45fb-cf60-0587a9988703"
      },
      "source": [
        "df = pd.read_excel(\"https://github.com/alura-cursos/covid-19-clinical/blob/main/Kaggle_Sirio_Libanes_ICU_Prediction.xlsx?raw=true\")\n",
        "df.head()"
      ],
      "execution_count": null,
      "outputs": [
        {
          "output_type": "error",
          "ename": "NameError",
          "evalue": "ignored",
          "traceback": [
            "\u001b[0;31m---------------------------------------------------------------------------\u001b[0m",
            "\u001b[0;31mNameError\u001b[0m                                 Traceback (most recent call last)",
            "\u001b[0;32m<ipython-input-1-0ad8e9b23dd0>\u001b[0m in \u001b[0;36m<module>\u001b[0;34m()\u001b[0m\n\u001b[0;32m----> 1\u001b[0;31m \u001b[0mdf\u001b[0m \u001b[0;34m=\u001b[0m \u001b[0mpd\u001b[0m\u001b[0;34m.\u001b[0m\u001b[0mread_excel\u001b[0m\u001b[0;34m(\u001b[0m\u001b[0;34m\"https://github.com/alura-cursos/covid-19-clinical/blob/main/Kaggle_Sirio_Libanes_ICU_Prediction.xlsx?raw=true\"\u001b[0m\u001b[0;34m)\u001b[0m\u001b[0;34m\u001b[0m\u001b[0;34m\u001b[0m\u001b[0m\n\u001b[0m\u001b[1;32m      2\u001b[0m \u001b[0mdf\u001b[0m\u001b[0;34m.\u001b[0m\u001b[0mhead\u001b[0m\u001b[0;34m(\u001b[0m\u001b[0;34m)\u001b[0m\u001b[0;34m\u001b[0m\u001b[0;34m\u001b[0m\u001b[0m\n",
            "\u001b[0;31mNameError\u001b[0m: name 'pd' is not defined"
          ]
        }
      ]
    },
    {
      "cell_type": "markdown",
      "metadata": {
        "id": "dusyYwwSoyeq"
      },
      "source": [
        "***\n",
        "#LIMPANDO AS BASES\n",
        "***\n"
      ]
    },
    {
      "cell_type": "markdown",
      "metadata": {
        "id": "YK52N3xY3xJU"
      },
      "source": [
        "***\n",
        "#MACHINE LEARNING\n",
        "***\n"
      ]
    },
    {
      "cell_type": "markdown",
      "metadata": {
        "id": "mCfC7osipSkf"
      },
      "source": [
        "***\n",
        "#CONCLUSÃO\n",
        "\n",
        "***"
      ]
    }
  ]
}